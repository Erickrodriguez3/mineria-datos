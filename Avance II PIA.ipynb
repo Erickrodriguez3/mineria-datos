{
  "nbformat": 4,
  "nbformat_minor": 0,
  "metadata": {
    "colab": {
      "name": "Untitled3.ipynb",
      "provenance": [],
      "collapsed_sections": [],
      "authorship_tag": "ABX9TyMjFolTx4ZefQAbp4UXDAjO",
      "include_colab_link": true
    },
    "kernelspec": {
      "name": "python3",
      "display_name": "Python 3"
    },
    "language_info": {
      "name": "python"
    }
  },
  "cells": [
    {
      "cell_type": "markdown",
      "metadata": {
        "id": "view-in-github",
        "colab_type": "text"
      },
      "source": [
        "<a href=\"https://colab.research.google.com/github/Erickrodriguez3/mineria-datos/blob/main/Avance%20II%20PIA.ipynb\" target=\"_parent\"><img src=\"https://colab.research.google.com/assets/colab-badge.svg\" alt=\"Open In Colab\"/></a>"
      ]
    },
    {
      "cell_type": "markdown",
      "metadata": {
        "id": "HZshVEtIN6_Y"
      },
      "source": [
        "**1. World Happiness Report**\n",
        "\n",
        "**2. Descripción de los datos**\n",
        "\n",
        "El Informe Mundial sobre la Felicidad es un estudio histórico sobre el estado de la felicidad mundial. Las puntuaciones y clasificaciones de la felicidad utilizan datos de la Encuesta Mundial de Gallup. Las puntuaciones se basan en las respuestas a la principal pregunta de evaluación de la vida formulada en la encuesta.\n",
        "\n"
      ]
    },
    {
      "cell_type": "code",
      "metadata": {
        "id": "fuiuAMxwN_iB"
      },
      "source": [
        "import pandas as ps\n",
        "import numpy as ny\n",
        "\n"
      ],
      "execution_count": null,
      "outputs": []
    },
    {
      "cell_type": "code",
      "metadata": {
        "id": "FouH1M7rO27T"
      },
      "source": [
        "df= ps.read_csv(\"2019.csv\")"
      ],
      "execution_count": null,
      "outputs": []
    },
    {
      "cell_type": "code",
      "metadata": {
        "id": "CtHO_PeGPBWP"
      },
      "source": [
        "df.shape"
      ],
      "execution_count": null,
      "outputs": []
    },
    {
      "cell_type": "code",
      "metadata": {
        "id": "aEUik9rrPEtF"
      },
      "source": [
        "df.columns"
      ],
      "execution_count": null,
      "outputs": []
    },
    {
      "cell_type": "code",
      "metadata": {
        "id": "1MFVB1RmPHXj"
      },
      "source": [
        "df.dtypes"
      ],
      "execution_count": null,
      "outputs": []
    },
    {
      "cell_type": "markdown",
      "metadata": {
        "id": "1r-1dcAtPKhX"
      },
      "source": [
        "**3. Justificación del Uso de Datos**\n",
        "\n",
        "a) Cuales son las características que les llamaron la atención de los datos. Que les hizo querer trabajar con ellos\n",
        "\n",
        "Los datos presentan, como característica más importante para el equipo, ser internacionales, pues se incluyen 156 países. Es una base de datos lanzada por la Organización de las Naciones Unidas y tiene utilidad en una gran variedad de campos como lo son la economía, la psicología, la salud, entre muchas otras más.\n",
        "\n",
        "**b) Que beneficio encuentran en trabajar con esos datos.**\n",
        "\n",
        "La base de datos cuenta con una gran variedad de datos numéricos, por lo que creemos que da oportunidad a ser analizada y trabajada con bastante libertad, así como dar respuesta a múltiples preguntas, según sea el caso. Además, el hecho de contener a una gran cantidad de países, cualquier proyecto que resulte de ella, puede ser de interés internacional."
      ]
    },
    {
      "cell_type": "markdown",
      "metadata": {
        "id": "5E6ExB8DQVUK"
      },
      "source": [
        "**4. Mencionar los objetivos (principal y secundarios)**\n",
        "\n",
        "**a) Principal:**\n",
        "\n",
        "Esta base de datos nos muestra los 156 países más felices del mundo, basándose en diferentes factores que podrían influir en la felicidad de los habitantes de estos (libertad, corrupción, economía, etc.) Al trabajar con esta base de datos podemos encontrar la respuesta a la pregunta: ¿cuáles son aquellos factores que verdaderamente contribuyen a la felicidad?\n",
        "\n",
        "**b) Secundarios:**\n",
        "\n",
        "Entre los objetivos secundarios se tienen; identificar a los países con la población más feliz, aportar sugerencias para ser más feliz y resaltar los factores a los que se le tienen que dar más importancia en los gobiernos.\n",
        "\n",
        "\n",
        "\n"
      ]
    }
  ]
}