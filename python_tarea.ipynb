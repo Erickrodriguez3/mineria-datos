{
  "nbformat": 4,
  "nbformat_minor": 0,
  "metadata": {
    "colab": {
      "name": "Untitled1.ipynb",
      "provenance": [],
      "collapsed_sections": [],
      "authorship_tag": "ABX9TyPImDeX3j/Myvk0ITR2PVFx",
      "include_colab_link": true
    },
    "kernelspec": {
      "name": "python3",
      "display_name": "Python 3"
    }
  },
  "cells": [
    {
      "cell_type": "markdown",
      "metadata": {
        "id": "view-in-github",
        "colab_type": "text"
      },
      "source": [
        "<a href=\"https://colab.research.google.com/github/Erickrodriguez3/mineria-datos/blob/main/python_tarea.ipynb\" target=\"_parent\"><img src=\"https://colab.research.google.com/assets/colab-badge.svg\" alt=\"Open In Colab\"/></a>"
      ]
    },
    {
      "cell_type": "code",
      "metadata": {
        "colab": {
          "base_uri": "https://localhost:8080/"
        },
        "id": "egJPItYWh54T",
        "outputId": "abe66db7-356e-4b71-b80e-8e4f462281e1"
      },
      "source": [
        "matricula =input(\"Introduce tu matricula: \") #No se usó int() porque no se ocupa hacer operaciones con esta variable\n",
        "nombre = input(\"Introduzca su nombre completo: \")\n",
        " \n",
        "print(\"Su nombre es: \"+ nombre + \" y su matricula es: \"+ matricula)"
      ],
      "execution_count": null,
      "outputs": [
        {
          "output_type": "stream",
          "text": [
            "Introduce tu matricula: 1803744\n",
            "Introduzca su nombre completo: Erick Alejandro Rodriguez Estrada\n",
            "Su nombre es: Erick Alejandro Rodriguez Estrada y su matricula es: 1803744\n"
          ],
          "name": "stdout"
        }
      ]
    },
    {
      "cell_type": "code",
      "metadata": {
        "colab": {
          "base_uri": "https://localhost:8080/"
        },
        "id": "j1fG0HItjUD-",
        "outputId": "83be8b8a-3930-42d0-d301-44c730e64937"
      },
      "source": [
        "n1 = int(input(\"Ingrese un número por favor: \"))\n",
        "n2 = int(input(\"Ingrese un número por favor: \"))\n",
        " \n",
        "suma = n1 + n2\n",
        "resta= n1 - n2\n",
        "multi= n1 * n2\n",
        "divi = n1 / n2\n",
        "expo = n1**n2\n",
        " \n",
        "print(\"Suma ->\",n1, \"+\", n2, \"=\",suma)\n",
        "print(\"Resta ->\",n1, \"-\",n2,\"=\",resta)\n",
        "print(\"Multiplicacion ->\", n1, \"*\",n2,\"=\",multi)\n",
        "print(\"Division ->\",n1, \"/\",n2,\"=\",divi)\n",
        "print(\"Exponencial ->\",n1, \"**\",n2,\"=\",expo)"
      ],
      "execution_count": null,
      "outputs": [
        {
          "output_type": "stream",
          "text": [
            "Ingrese un número por favor: 3\n",
            "Ingrese un número por favor: 4\n",
            "Suma -> 3 + 4 = 7\n",
            "Resta -> 3 - 4 = -1\n",
            "Multiplicacion -> 3 * 4 = 12\n",
            "Division -> 3 / 4 = 0.75\n",
            "Exponencial -> 3 ** 4 = 81\n"
          ],
          "name": "stdout"
        }
      ]
    },
    {
      "cell_type": "code",
      "metadata": {
        "colab": {
          "base_uri": "https://localhost:8080/"
        },
        "id": "2jLYgos_lOS6",
        "outputId": "e24bf38b-cad6-4eb2-ce9f-d8279bc2ba2e"
      },
      "source": [
        "lista=[]\r\n",
        "for i in range(0,10):\r\n",
        "    lista.append(3*(i+1))\r\n",
        "    \r\n",
        "print(lista)\r\n",
        "\r\n",
        "\r\n",
        "acumulador=0\r\n",
        "i=0\r\n",
        "while i<len(lista):\r\n",
        "    acumulador=acumulador+lista[i]\r\n",
        "    i=i+1\r\n",
        "acumulador"
      ],
      "execution_count": null,
      "outputs": [
        {
          "output_type": "stream",
          "text": [
            "[3, 6, 9, 12, 15, 18, 21, 24, 27, 30]\n"
          ],
          "name": "stdout"
        },
        {
          "output_type": "execute_result",
          "data": {
            "text/plain": [
              "165"
            ]
          },
          "metadata": {
            "tags": []
          },
          "execution_count": 4
        }
      ]
    },
    {
      "cell_type": "code",
      "metadata": {
        "colab": {
          "base_uri": "https://localhost:8080/"
        },
        "id": "ijL-29xClXzq",
        "outputId": "a0ace735-2aeb-49ae-b295-ed2b4229cb59"
      },
      "source": [
        "\r\n",
        "a=int(input(\"Ingrese un numero entero: \"))\r\n",
        "divisores=0\r\n",
        "\r\n",
        "if a%2==0:\r\n",
        "    print(\"El numero es par\")\r\n",
        "else: \r\n",
        "    print(\"El numero es  impar\")\r\n",
        "\r\n",
        "for j in range(1,a+1):\r\n",
        "    if a%j==0:\r\n",
        "        divisores+=1\r\n",
        "\r\n",
        "if divisores==2:\r\n",
        "    print(\"El número es primo\")\r\n",
        "else:\r\n",
        "    print(\"El numero no es primo\")"
      ],
      "execution_count": null,
      "outputs": [
        {
          "output_type": "stream",
          "text": [
            "Ingrese un numero entero: 29\n",
            "El numero es  impar\n",
            "El número es primo\n"
          ],
          "name": "stdout"
        }
      ]
    },
    {
      "cell_type": "code",
      "metadata": {
        "colab": {
          "base_uri": "https://localhost:8080/"
        },
        "id": "2ID8E4D-ldCl",
        "outputId": "553e01a1-7e0c-4cd5-a674-78df5754ae8f"
      },
      "source": [
        "def suma(a,b):\r\n",
        "    s=a+b\r\n",
        "    return s\r\n",
        "\r\n",
        "def resta(a,b):\r\n",
        "    r=a-b\r\n",
        "    return r\r\n",
        "\r\n",
        "def multiplicacion(a,b):\r\n",
        "    m=a*b\r\n",
        "    return m\r\n",
        "\r\n",
        "def división(a,b):\r\n",
        "    d=a/b\r\n",
        "    return d\r\n",
        "\r\n",
        "def exponente(a,b):\r\n",
        "    expo=a**b\r\n",
        "    return expo\r\n",
        "\r\n",
        "    \r\n",
        "import os\r\n",
        "borrarPantalla = lambda: os.system (\"cls\") #al parecer  no funciona aquí \r\n",
        "borrarPantalla() #Limpia la pantalla\r\n",
        "#https://unipython.com/como-borrar-pantalla-en-python/\r\n",
        "\r\n",
        "numero1=int(input(\"Ingrese un numero  a: \"))\r\n",
        "numero2=int(input(\"Ingrese otro numero b: \"))\r\n",
        "#while op>0: \r\n",
        "print(\"Seleccione la operación que desea realizar:\")\r\n",
        "print(\"1.-Ingresar 2 nuevos numeros\")\r\n",
        "print(\"2.-Suma a+b\")\r\n",
        "print(\"3.-Resta a-b\")\r\n",
        "print(\"4.-Multiplicación a*b\")\r\n",
        "print(\"5.-Exponente a**b\")\r\n",
        "print(\"0.-Salir\")\r\n",
        "op=int(input(\"Ingrese la el numero de la operación que desee realizar: \"))\r\n",
        "    #borrarPantalla()\r\n",
        "    \r\n",
        "    \r\n",
        "if op==1:\r\n",
        "    numero1=int(input(\"Ingrese un numero  a: \"))\r\n",
        "    numero2=int(input(\"Ingrese otro numero b: \"))\r\n",
        "    #input(\"Presione enter para continuar: \")\r\n",
        "        #borrarPantalla()\r\n",
        "elif op==2:\r\n",
        "    print(numero1, \"+\", numero2, \"=\", suma(numero1,numero2))\r\n",
        "    #input(\"Presione enter para continuar: \")\r\n",
        "        #borrarPantalla()\r\n",
        "elif op==3:\r\n",
        "    print(numero1, \"-\", numero2, \"=\", resta(numero1,numero2))\r\n",
        "    input(\"Presione enter para continuar: \")\r\n",
        "        #borrarPantalla()\r\n",
        "elif op==4:\r\n",
        "    print(numero1, \"*\", numero2, \"=\", multiplicacion(numero1,numero2))\r\n",
        "    input(\"Presione enter para continuar: \")\r\n",
        "        #borrarPantalla()\r\n",
        "elif op==5:\r\n",
        "    print(numero1, \"**\", numero2, \"=\", exponente(numero1,numero2))\r\n",
        "    input(\"Presione enter para continuar: \")\r\n",
        "        #borrarPantalla()\r\n",
        "elif op==0:\r\n",
        "    print(\"Gracias\")\r\n",
        "else:\r\n",
        "    input(\"La opción ingresada es invalida, intente de nuevo, presione enter para continuar\")\r\n",
        "        #borrarPantalla()\r\n",
        "      "
      ],
      "execution_count": null,
      "outputs": [
        {
          "output_type": "stream",
          "text": [
            "Ingrese un numero  a: 8\n",
            "Ingrese otro numero b: 17\n",
            "Seleccione la operación que desea realizar:\n",
            "1.-Ingresar 2 nuevos numeros\n",
            "2.-Suma a+b\n",
            "3.-Resta a-b\n",
            "4.-Multiplicación a*b\n",
            "5.-Exponente a**b\n",
            "0.-Salir\n",
            "Ingrese la el numero de la operación que desee realizar: 4\n",
            "8 * 17 = 136\n",
            "Presione enter para continuar: \n"
          ],
          "name": "stdout"
        }
      ]
    },
    {
      "cell_type": "code",
      "metadata": {
        "colab": {
          "base_uri": "https://localhost:8080/"
        },
        "id": "hayw5hCYl_Zb",
        "outputId": "5bd47d7a-43bd-4363-b429-c3a47f5e1d7b"
      },
      "source": [
        "lista1=[]\r\n",
        "lista1.append(float(3.1416))\r\n",
        "lista1.append(int(28))\r\n",
        "lista1.append(bool(28))\r\n",
        "lista1.append(4+3j)\r\n",
        "tupla1=tuple(lista1)\r\n",
        "\r\n",
        "for i in range(0,len(tupla1)):\r\n",
        "    print(type(tupla1[i]))"
      ],
      "execution_count": null,
      "outputs": [
        {
          "output_type": "stream",
          "text": [
            "<class 'float'>\n",
            "<class 'int'>\n",
            "<class 'bool'>\n",
            "<class 'complex'>\n"
          ],
          "name": "stdout"
        }
      ]
    },
    {
      "cell_type": "code",
      "metadata": {
        "colab": {
          "base_uri": "https://localhost:8080/"
        },
        "id": "0j-EfiuymGO-",
        "outputId": "4262a988-e803-45ae-b14e-634b233e8895"
      },
      "source": [
        "tupla2=(1,2,3,4,5,6,7,8,9,10)\r\n",
        "\r\n",
        "print(tupla2[0])\r\n",
        "print(tupla2[9])"
      ],
      "execution_count": null,
      "outputs": [
        {
          "output_type": "stream",
          "text": [
            "1\n",
            "10\n"
          ],
          "name": "stdout"
        }
      ]
    },
    {
      "cell_type": "code",
      "metadata": {
        "colab": {
          "base_uri": "https://localhost:8080/"
        },
        "id": "0c5ymDXpmNKG",
        "outputId": "eb268015-32f5-42d6-9a1a-0b174f6f32b5"
      },
      "source": [
        "lista2=list(tupla2)\r\n",
        "lista2.append(\"a\")\r\n",
        "lista2.append(\"b\")\r\n",
        "lista2.append(\"c\")\r\n",
        "tupla3=tuple(lista2)\r\n",
        "\r\n",
        "print(tupla3)\r\n",
        "print(type(tupla3[10]))\r\n",
        "print(type(tupla3[11]))\r\n",
        "print(type(tupla3[12]))"
      ],
      "execution_count": null,
      "outputs": [
        {
          "output_type": "stream",
          "text": [
            "(1, 2, 3, 4, 5, 6, 7, 8, 9, 10, 'a', 'b', 'c')\n",
            "<class 'str'>\n",
            "<class 'str'>\n",
            "<class 'str'>\n"
          ],
          "name": "stdout"
        }
      ]
    },
    {
      "cell_type": "code",
      "metadata": {
        "colab": {
          "base_uri": "https://localhost:8080/"
        },
        "id": "si8K0fWSmOzc",
        "outputId": "08436877-497a-46db-e185-b8a9af86e6ec"
      },
      "source": [
        "print(\"El MAX\" in tupla3)\r\n",
        "print(\"a\" in tupla3)"
      ],
      "execution_count": null,
      "outputs": [
        {
          "output_type": "stream",
          "text": [
            "False\n",
            "True\n"
          ],
          "name": "stdout"
        }
      ]
    },
    {
      "cell_type": "code",
      "metadata": {
        "colab": {
          "base_uri": "https://localhost:8080/"
        },
        "id": "FpTqGFLhmUVQ",
        "outputId": "25cd9313-f8c4-4b1d-bebe-cfa33631fdf1"
      },
      "source": [
        "import random as r\n",
        "lista40=[]\n",
        "for i in range(0,40):\n",
        "    lista40.append(r.randint(1,100))\n",
        " \n",
        "print(lista40)"
      ],
      "execution_count": null,
      "outputs": [
        {
          "output_type": "stream",
          "text": [
            "[7, 98, 59, 30, 42, 29, 32, 55, 44, 81, 5, 74, 46, 12, 84, 2, 44, 28, 22, 63, 35, 35, 14, 3, 2, 72, 4, 62, 29, 61, 77, 100, 6, 12, 50, 98, 10, 69, 42, 93]\n"
          ],
          "name": "stdout"
        }
      ]
    },
    {
      "cell_type": "code",
      "metadata": {
        "colab": {
          "base_uri": "https://localhost:8080/"
        },
        "id": "ReYjEVkvmcPX",
        "outputId": "3b961d8c-13bd-49af-f3f2-5b29e7194789"
      },
      "source": [
        "pares=[]\r\n",
        "impares=[]\r\n",
        "def parimpar(lista):\r\n",
        "    valor=0\r\n",
        "    for j in range(0,len(lista)):\r\n",
        "        valor=lista[j]\r\n",
        "        if valor%2==0:\r\n",
        "            pares.append(valor)\r\n",
        "        else:\r\n",
        "            impares.append(valor)\r\n",
        "    \r\n",
        "    return pares,impares\r\n",
        "\r\n",
        "    \r\n",
        "parimpar(lista40)"
      ],
      "execution_count": null,
      "outputs": [
        {
          "output_type": "execute_result",
          "data": {
            "text/plain": [
              "([98,\n",
              "  30,\n",
              "  42,\n",
              "  32,\n",
              "  44,\n",
              "  74,\n",
              "  46,\n",
              "  12,\n",
              "  84,\n",
              "  2,\n",
              "  44,\n",
              "  28,\n",
              "  22,\n",
              "  14,\n",
              "  2,\n",
              "  72,\n",
              "  4,\n",
              "  62,\n",
              "  100,\n",
              "  6,\n",
              "  12,\n",
              "  50,\n",
              "  98,\n",
              "  10,\n",
              "  42],\n",
              " [7, 59, 29, 55, 81, 5, 63, 35, 35, 3, 29, 61, 77, 69, 93])"
            ]
          },
          "metadata": {
            "tags": []
          },
          "execution_count": 17
        }
      ]
    },
    {
      "cell_type": "code",
      "metadata": {
        "colab": {
          "base_uri": "https://localhost:8080/"
        },
        "id": "S9idtsY8mk5H",
        "outputId": "f7085723-757c-47b9-be0d-a347c640e94e"
      },
      "source": [
        "lonpar=len(pares)\r\n",
        "lonimpar=len(impares)\r\n",
        "\r\n",
        "print(lonpar)\r\n",
        "print(lonimpar)"
      ],
      "execution_count": null,
      "outputs": [
        {
          "output_type": "stream",
          "text": [
            "25\n",
            "15\n"
          ],
          "name": "stdout"
        }
      ]
    },
    {
      "cell_type": "code",
      "metadata": {
        "colab": {
          "base_uri": "https://localhost:8080/"
        },
        "id": "D-VBKD9lmr46",
        "outputId": "c5d40c6d-5469-4525-dac4-9f98acee6750"
      },
      "source": [
        "pares.sort(reverse=True) #https://j2logo.com/python/ordenar-una-lista-en-python/#ordenar-basico\r\n",
        "print(pares,len(pares))\r\n",
        "\r\n",
        "impares.sort()\r\n",
        "print(impares,len(impares))"
      ],
      "execution_count": null,
      "outputs": [
        {
          "output_type": "stream",
          "text": [
            "[100, 98, 98, 84, 74, 72, 62, 50, 46, 44, 44, 42, 42, 32, 30, 28, 22, 14, 12, 12, 10, 6, 4, 2, 2] 25\n",
            "[3, 5, 7, 29, 29, 35, 35, 55, 59, 61, 63, 69, 77, 81, 93] 15\n"
          ],
          "name": "stdout"
        }
      ]
    },
    {
      "cell_type": "code",
      "metadata": {
        "colab": {
          "base_uri": "https://localhost:8080/"
        },
        "id": "jQ0RexlTm07I",
        "outputId": "f2578fb2-8de2-4b36-bd8a-210237767177"
      },
      "source": [
        "lista40.pop()\r\n",
        "print(lista40)\r\n",
        "lista40.append(10000)\r\n",
        "print(lista40)\r\n",
        "lista40.extend([101,102,103])\r\n",
        "print(lista40)\r\n",
        "lista40.sort()\r\n",
        "print(lista40)"
      ],
      "execution_count": null,
      "outputs": [
        {
          "output_type": "stream",
          "text": [
            "[7, 98, 59, 30, 42, 29, 32, 55, 44, 81, 5, 74, 46, 12, 84, 2, 44, 28, 22, 63, 35, 35, 14, 3, 2, 72, 4, 62, 29, 61, 77, 100, 6, 12, 50, 98, 10, 69, 42]\n",
            "[7, 98, 59, 30, 42, 29, 32, 55, 44, 81, 5, 74, 46, 12, 84, 2, 44, 28, 22, 63, 35, 35, 14, 3, 2, 72, 4, 62, 29, 61, 77, 100, 6, 12, 50, 98, 10, 69, 42, 10000]\n",
            "[7, 98, 59, 30, 42, 29, 32, 55, 44, 81, 5, 74, 46, 12, 84, 2, 44, 28, 22, 63, 35, 35, 14, 3, 2, 72, 4, 62, 29, 61, 77, 100, 6, 12, 50, 98, 10, 69, 42, 10000, 101, 102, 103]\n",
            "[2, 2, 3, 4, 5, 6, 7, 10, 12, 12, 14, 22, 28, 29, 29, 30, 32, 35, 35, 42, 42, 44, 44, 46, 50, 55, 59, 61, 62, 63, 69, 72, 74, 77, 81, 84, 98, 98, 100, 101, 102, 103, 10000]\n"
          ],
          "name": "stdout"
        }
      ]
    },
    {
      "cell_type": "code",
      "metadata": {
        "colab": {
          "base_uri": "https://localhost:8080/"
        },
        "id": "xiPImxThm4mo",
        "outputId": "1626d83b-3c4d-471a-f7b2-f7a6ef413891"
      },
      "source": [
        "dic={\"David\":24,\"Ricardo\":25,\"German\":22,\"Sergio\":22,\"Jared\":20,\"Cesar\":26}\r\n",
        "print(dic)"
      ],
      "execution_count": null,
      "outputs": [
        {
          "output_type": "stream",
          "text": [
            "{'David': 24, 'Ricardo': 25, 'German': 22, 'Sergio': 22, 'Jared': 20, 'Cesar': 26}\n"
          ],
          "name": "stdout"
        }
      ]
    },
    {
      "cell_type": "code",
      "metadata": {
        "colab": {
          "base_uri": "https://localhost:8080/"
        },
        "id": "NPwXyVDlnOBs",
        "outputId": "7ba6733b-448c-4158-c83f-cd456928470c"
      },
      "source": [
        "edades=list(dic.values())\r\n",
        "print(edades)\r\n",
        "edades.sort()\r\n",
        "print(edades)"
      ],
      "execution_count": null,
      "outputs": [
        {
          "output_type": "stream",
          "text": [
            "[24, 25, 22, 22, 20, 26]\n",
            "[20, 22, 22, 24, 25, 26]\n"
          ],
          "name": "stdout"
        }
      ]
    },
    {
      "cell_type": "code",
      "metadata": {
        "colab": {
          "base_uri": "https://localhost:8080/"
        },
        "id": "bbvGtmq6nR9L",
        "outputId": "d62ac037-93bf-4594-fae0-0c19fc3fe8d7"
      },
      "source": [
        "#https://devcode.la/tutoriales/diccionarios-en-python/ \r\n",
        "for key in dic:\r\n",
        "    print(key)"
      ],
      "execution_count": null,
      "outputs": [
        {
          "output_type": "stream",
          "text": [
            "David\n",
            "Ricardo\n",
            "German\n",
            "Sergio\n",
            "Jared\n",
            "Cesar\n"
          ],
          "name": "stdout"
        }
      ]
    },
    {
      "cell_type": "code",
      "metadata": {
        "colab": {
          "base_uri": "https://localhost:8080/"
        },
        "id": "GXzyuFtfnVjf",
        "outputId": "ef91d327-276e-49f1-f94d-c1e8bb21721b"
      },
      "source": [
        "dic[\"Elias\"]=23\r\n",
        "dic[\"Salchi\"]=24\r\n",
        "print(dic)"
      ],
      "execution_count": null,
      "outputs": [
        {
          "output_type": "stream",
          "text": [
            "{'David': 24, 'Ricardo': 25, 'German': 22, 'Sergio': 22, 'Jared': 20, 'Cesar': 26, 'Elias': 23, 'Salchi': 24}\n"
          ],
          "name": "stdout"
        }
      ]
    },
    {
      "cell_type": "code",
      "metadata": {
        "colab": {
          "base_uri": "https://localhost:8080/"
        },
        "id": "2bySnnSWndAh",
        "outputId": "878f26de-cf7b-4177-8c41-d5c81ce8592c"
      },
      "source": [
        "s=set()\r\n",
        "for i in range(0,100):\r\n",
        "    s.add(r.randint(1,25))\r\n",
        "    \r\n",
        "print(s) #? No repite numeros"
      ],
      "execution_count": null,
      "outputs": [
        {
          "output_type": "stream",
          "text": [
            "{1, 2, 3, 4, 5, 6, 7, 8, 9, 10, 11, 12, 13, 14, 15, 16, 17, 18, 19, 20, 21, 22, 23, 24, 25}\n"
          ],
          "name": "stdout"
        }
      ]
    },
    {
      "cell_type": "code",
      "metadata": {
        "colab": {
          "base_uri": "https://localhost:8080/"
        },
        "id": "sfPs3BCPngTN",
        "outputId": "20a95c51-08f4-4ff1-d7b2-feb1e6744bd7"
      },
      "source": [
        "print(len(s)) #???"
      ],
      "execution_count": null,
      "outputs": [
        {
          "output_type": "stream",
          "text": [
            "25\n"
          ],
          "name": "stdout"
        }
      ]
    },
    {
      "cell_type": "code",
      "metadata": {
        "colab": {
          "base_uri": "https://localhost:8080/"
        },
        "id": "LoMd_zSrnl95",
        "outputId": "5977fa66-f3c5-458f-9239-d8c0445a5c99"
      },
      "source": [
        "lista10=[]\n",
        "for i in range(0,5):\n",
        "    lista10.append(r.randint(1,10))\n",
        "print(lista10)\n",
        " \n",
        "for i in lista10:\n",
        "    print(i in s)"
      ],
      "execution_count": null,
      "outputs": [
        {
          "output_type": "stream",
          "text": [
            "[3, 4, 8, 1, 2]\n",
            "True\n",
            "True\n",
            "True\n",
            "True\n",
            "True\n"
          ],
          "name": "stdout"
        }
      ]
    }
  ]
}